{
 "cells": [
  {
   "cell_type": "code",
   "execution_count": null,
   "metadata": {},
   "outputs": [],
   "source": [
    "import requests\n",
    "import json\n",
    "import webbrowser\n",
    "\n",
    "#Consumer_key is distinct for my pocketapp\n",
    "redirect_uri = 'https://getpocket.com/my-list/search?query=e'\n",
    "consumer_key = '96966-b4be73510099983d61b4e3b4'\n",
    "\n",
    "with open('api_params.json','r') as api_params:\n",
    "    params = json.load(api_params)\n",
    "\n",
    "print(params[\"consumer_key\"])"
   ]
  },
  {
   "cell_type": "code",
   "execution_count": null,
   "metadata": {},
   "outputs": [],
   "source": [
    "#Get the AccessToken\n",
    "access_params = {\n",
    "    \"consumer_key\":\n",
    "    params[\"consumer_key\"],\n",
    "    \"redirect_uri\":\n",
    "    redirect_uri\n",
    "}\n",
    "\n",
    "consumer_key = params[\"consumer_key\"]\n",
    "response = requests.post('https://getpocket.com/v3/oauth/request',\n",
    "                         params=access_params)\n",
    "print(response.status_code)\n",
    "\n",
    "response.content"
   ]
  },
  {
   "cell_type": "code",
   "execution_count": 6,
   "metadata": {},
   "outputs": [],
   "source": [
    "request_token = response.content\n",
    "request_token = str(request_token)\n",
    "_, request_token = request_token.split('=')\n",
    "request_token = request_token[0:-1]"
   ]
  },
  {
   "cell_type": "code",
   "execution_count": null,
   "metadata": {},
   "outputs": [],
   "source": [
    "code = request_token\n",
    "request_token"
   ]
  },
  {
   "cell_type": "code",
   "execution_count": 8,
   "metadata": {},
   "outputs": [
    {
     "data": {
      "text/plain": [
       "True"
      ]
     },
     "execution_count": 8,
     "metadata": {},
     "output_type": "execute_result"
    }
   ],
   "source": [
    "#log in with your Account to the App\n",
    "webbrowser.open_new_tab('https://getpocket.com/auth/authorize?request_token='+ \n",
    "                        params[\"request_token\"] + \n",
    "                        '&redirect_uri=' +                        \n",
    "                        params[\"redirect_uri\"]\n",
    "                       )"
   ]
  },
  {
   "cell_type": "code",
   "execution_count": null,
   "metadata": {},
   "outputs": [],
   "source": [
    "#Authorization Request\n",
    "autho_params = {\n",
    "    \"consumer_key\":\n",
    "    params[\"consumer_key\"],\n",
    "    \"code\": \n",
    "    params[\"request_token\"]\n",
    "    }\n",
    "\n",
    "response = requests.post('https://getpocket.com/v3/oauth/authorize', params = autho_params)\n",
    "print(response.status_code)\n",
    "\n",
    "response.content\n"
   ]
  },
  {
   "cell_type": "code",
   "execution_count": 2,
   "metadata": {},
   "outputs": [
    {
     "data": {
      "text/plain": [
       "200"
      ]
     },
     "execution_count": 2,
     "metadata": {},
     "output_type": "execute_result"
    }
   ],
   "source": [
    "#get all unread articles from pocket\n",
    "import requests\n",
    "data = {\n",
    "    \"consumer_key\": params[\"consumer_key\"],\n",
    "    \"access_token\": params[\"access_token\"],\n",
    "    #\"count\": \"10\",\n",
    "    \"state\": \"unread\",\n",
    "    \"detailType\": \"complete\"\n",
    "}\n",
    "\n",
    "API_ENDPOINT = \"https://getpocket.com/v3/get\"\n",
    "\n",
    "# sending post request and saving response as response object\n",
    "r = requests.post(url=API_ENDPOINT, data=data)\n",
    "r.status_code"
   ]
  },
  {
   "cell_type": "code",
   "execution_count": null,
   "metadata": {},
   "outputs": [],
   "source": [
    "r.json()"
   ]
  },
  {
   "cell_type": "code",
   "execution_count": 4,
   "metadata": {},
   "outputs": [
    {
     "name": "stdout",
     "output_type": "stream",
     "text": [
      "Es gibt 368 Artikel, die du noch lesen solltest\n",
      "Deine Pocketliste hat 513567 ungelesene Wörter für dich\n",
      "Es gibt noch 2396 Minuten Lesezeit für dich\n"
     ]
    }
   ],
   "source": [
    "#read Article Reading Times and Count Words\n",
    "articles_dict = r.json()\n",
    "articles = articles_dict['list']\n",
    "\n",
    "words_to_read = 0\n",
    "total_reading_time = 0\n",
    "for article_number in articles:\n",
    "    \n",
    "    words_to_read = words_to_read + int(articles[article_number]['word_count'])\n",
    "    try:\n",
    "        total_reading_time = total_reading_time + int(articles[article_number]['time_to_read'])\n",
    "        #print(articles[article_number]['time_to_read'])\n",
    "    except:\n",
    "        total_reading_time = total_reading_time + int(int(articles[article_number]['word_count'])/200)\n",
    "        #print(articles[article_number]['word_count'])\n",
    "        \n",
    "print(f\"Es gibt {len(articles)} Artikel, die du noch lesen solltest\")        \n",
    "print(f\"Deine Pocketliste hat {words_to_read} ungelesene Wörter für dich\")\n",
    "print(f\"Es gibt noch {total_reading_time} Minuten Lesezeit für dich\")\n"
   ]
  },
  {
   "cell_type": "code",
   "execution_count": 5,
   "metadata": {},
   "outputs": [
    {
     "data": {
      "text/plain": [
       "'1 day, 15:56'"
      ]
     },
     "execution_count": 5,
     "metadata": {},
     "output_type": "execute_result"
    }
   ],
   "source": [
    "from datetime import timedelta\n",
    "str(timedelta(minutes=total_reading_time))[:-3]"
   ]
  },
  {
   "cell_type": "code",
   "execution_count": 6,
   "metadata": {},
   "outputs": [
    {
     "data": {
      "text/plain": [
       "368"
      ]
     },
     "execution_count": 6,
     "metadata": {},
     "output_type": "execute_result"
    }
   ],
   "source": [
    "len(articles)"
   ]
  },
  {
   "cell_type": "code",
   "execution_count": 9,
   "metadata": {},
   "outputs": [
    {
     "data": {
      "text/plain": [
       "200"
      ]
     },
     "execution_count": 9,
     "metadata": {},
     "output_type": "execute_result"
    }
   ],
   "source": [
    "#get all unread articles from pocket\n",
    "import requests\n",
    "\n",
    "\n",
    "data = {\n",
    "    \"consumer_key\": params[\"consumer_key\"],\n",
    "    \"access_token\": params[\"access_token\"],\n",
    "    #\"count\": \"10\",\n",
    "    \"state\": \"archive\",\n",
    "    \"detailType\": \"simple\"\n",
    "}\n",
    "\n",
    "API_ENDPOINT = \"https://getpocket.com/v3/get\"\n",
    "\n",
    "# sending post request and saving response as response object\n",
    "r = requests.post(url=API_ENDPOINT, data=data)\n",
    "r.status_code"
   ]
  },
  {
   "cell_type": "code",
   "execution_count": null,
   "metadata": {},
   "outputs": [],
   "source": [
    "r.json()"
   ]
  },
  {
   "cell_type": "code",
   "execution_count": 16,
   "metadata": {},
   "outputs": [
    {
     "name": "stdout",
     "output_type": "stream",
     "text": [
      "2021-05-23 21:43:44\n"
     ]
    }
   ],
   "source": [
    "from datetime import datetime, timedelta, timezone\n",
    "\n",
    "#put timezone in now()\n",
    "unix_ts = datetime.now(timezone(timedelta(hours=2))).timestamp()\n",
    "dt = (datetime.fromtimestamp(unix_ts) - timedelta(hours=2)).strftime('%Y-%m-%d %H:%M:%S')\n",
    "print(dt)"
   ]
  },
  {
   "cell_type": "code",
   "execution_count": 14,
   "metadata": {},
   "outputs": [
    {
     "data": {
      "text/plain": [
       "1621806042.751099"
      ]
     },
     "execution_count": 14,
     "metadata": {},
     "output_type": "execute_result"
    }
   ],
   "source": [
    "from datetime import datetime\n",
    "datetime.now().timestamp()"
   ]
  },
  {
   "cell_type": "code",
   "execution_count": 12,
   "metadata": {},
   "outputs": [],
   "source": [
    "import pandas as pd\n",
    "\n",
    "df = pd.DataFrame(columns = ['article_number','number_of_words','timestamp','time_to_read'])\n",
    "\n",
    "articles_dict = r.json()\n",
    "articles = articles_dict['list']\n",
    "\n",
    "words_to_read = 0\n",
    "time_read = 0\n",
    "for i, article_number in enumerate(articles):\n",
    "    words_to_read = int(articles[article_number]['word_count'])\n",
    "    time_read = int(articles[article_number]['time_read'])\n",
    "    \n",
    "    try:\n",
    "        time_to_read = int(articles[article_number]['time_to_read'])\n",
    "    except:\n",
    "        time_to_read = round(words_to_read/200)\n",
    "    df.loc[i] = [article_number,words_to_read,time_read,time_to_read]\n",
    "    "
   ]
  },
  {
   "cell_type": "code",
   "execution_count": 103,
   "metadata": {},
   "outputs": [],
   "source": [
    "#generate datetime out of unixtimestamp and split it in Date and Time of the Day (d_time)\n",
    "\n",
    "df['time'] = pd.to_datetime(df['timestamp'], unit='s')\n",
    "\n",
    "time_and_date = df['time'].apply(lambda x: str(x).split(' '))\n",
    "df['date'] = time_and_date.apply(lambda x: x[0])\n",
    "df['d_time'] = time_and_date.apply(lambda x: x[1])"
   ]
  },
  {
   "cell_type": "code",
   "execution_count": 104,
   "metadata": {},
   "outputs": [
    {
     "name": "stdout",
     "output_type": "stream",
     "text": [
      "-2208943545.0\n",
      "-86390.0\n"
     ]
    },
    {
     "data": {
      "text/plain": [
       "-2208908861.0"
      ]
     },
     "execution_count": 104,
     "metadata": {},
     "output_type": "execute_result"
    }
   ],
   "source": [
    "#generate the weekday in a column\n",
    "#put the hours and minutes in a int format to visualize\n",
    "from datetime import datetime as dt\n",
    "import calendar\n",
    "\n",
    "#p = dt.strptime(df['date'][1], \"%Y-%m-%d\")\n",
    "#calendar.day_name[p.weekday()]\n",
    "\n",
    "date_calendarformat = df['date'].apply(lambda x: dt.strptime(x,\"%Y-%m-%d\"))\n",
    "#df['weekday'] = date_calendarformat.apply(lambda x: calendar.day_name[x.weekday()])\n",
    "\n",
    "p = dt.strptime(df['d_time'][18], \"%H:%M:%S\")\n",
    "print(datetime.timestamp(p))\n",
    "\n",
    "h_min_sec_strptime = df['d_time'].apply(lambda x: dt.strptime(x, \"%H:%M:%S\"))\n",
    "h_min_sec_datetimeformat = h_min_sec_strptime.apply(lambda x: datetime.timestamp(x))\n",
    "\n",
    "mintime = min(h_min_sec_datetimeformat)\n",
    "df['h_min_sec_datetimeformat'] = h_min_sec_datetimeformat.apply(lambda x: x - mintime)\n",
    "\n",
    "ma = max(h_min_sec_datetimeformat)\n",
    "print(mi-ma)\n",
    "h_min_sec_datetimeformat[1]\n"
   ]
  },
  {
   "cell_type": "code",
   "execution_count": 105,
   "metadata": {},
   "outputs": [
    {
     "data": {
      "text/html": [
       "<div>\n",
       "<style scoped>\n",
       "    .dataframe tbody tr th:only-of-type {\n",
       "        vertical-align: middle;\n",
       "    }\n",
       "\n",
       "    .dataframe tbody tr th {\n",
       "        vertical-align: top;\n",
       "    }\n",
       "\n",
       "    .dataframe thead th {\n",
       "        text-align: right;\n",
       "    }\n",
       "</style>\n",
       "<table border=\"1\" class=\"dataframe\">\n",
       "  <thead>\n",
       "    <tr style=\"text-align: right;\">\n",
       "      <th></th>\n",
       "      <th>article_number</th>\n",
       "      <th>number_of_words</th>\n",
       "      <th>timestamp</th>\n",
       "      <th>time_to_read</th>\n",
       "      <th>time</th>\n",
       "      <th>date</th>\n",
       "      <th>d_time</th>\n",
       "      <th>h_min_sec_datetimeformat</th>\n",
       "    </tr>\n",
       "  </thead>\n",
       "  <tbody>\n",
       "    <tr>\n",
       "      <th>0</th>\n",
       "      <td>3315109211</td>\n",
       "      <td>613</td>\n",
       "      <td>1619392577</td>\n",
       "      <td>3</td>\n",
       "      <td>2021-04-25 23:16:17</td>\n",
       "      <td>2021-04-25</td>\n",
       "      <td>23:16:17</td>\n",
       "      <td>83769.0</td>\n",
       "    </tr>\n",
       "    <tr>\n",
       "      <th>1</th>\n",
       "      <td>3315827473</td>\n",
       "      <td>3220</td>\n",
       "      <td>1619392339</td>\n",
       "      <td>18</td>\n",
       "      <td>2021-04-25 23:12:19</td>\n",
       "      <td>2021-04-25</td>\n",
       "      <td>23:12:19</td>\n",
       "      <td>83531.0</td>\n",
       "    </tr>\n",
       "    <tr>\n",
       "      <th>2</th>\n",
       "      <td>3315113716</td>\n",
       "      <td>346</td>\n",
       "      <td>1619391485</td>\n",
       "      <td>2</td>\n",
       "      <td>2021-04-25 22:58:05</td>\n",
       "      <td>2021-04-25</td>\n",
       "      <td>22:58:05</td>\n",
       "      <td>82677.0</td>\n",
       "    </tr>\n",
       "    <tr>\n",
       "      <th>3</th>\n",
       "      <td>3315615735</td>\n",
       "      <td>274</td>\n",
       "      <td>1619391347</td>\n",
       "      <td>1</td>\n",
       "      <td>2021-04-25 22:55:47</td>\n",
       "      <td>2021-04-25</td>\n",
       "      <td>22:55:47</td>\n",
       "      <td>82539.0</td>\n",
       "    </tr>\n",
       "    <tr>\n",
       "      <th>4</th>\n",
       "      <td>3315205474</td>\n",
       "      <td>1664</td>\n",
       "      <td>1619391242</td>\n",
       "      <td>9</td>\n",
       "      <td>2021-04-25 22:54:02</td>\n",
       "      <td>2021-04-25</td>\n",
       "      <td>22:54:02</td>\n",
       "      <td>82434.0</td>\n",
       "    </tr>\n",
       "    <tr>\n",
       "      <th>5</th>\n",
       "      <td>3248208521</td>\n",
       "      <td>3645</td>\n",
       "      <td>1619385017</td>\n",
       "      <td>17</td>\n",
       "      <td>2021-04-25 21:10:17</td>\n",
       "      <td>2021-04-25</td>\n",
       "      <td>21:10:17</td>\n",
       "      <td>76209.0</td>\n",
       "    </tr>\n",
       "    <tr>\n",
       "      <th>6</th>\n",
       "      <td>3246360687</td>\n",
       "      <td>1419</td>\n",
       "      <td>1619382589</td>\n",
       "      <td>6</td>\n",
       "      <td>2021-04-25 20:29:49</td>\n",
       "      <td>2021-04-25</td>\n",
       "      <td>20:29:49</td>\n",
       "      <td>73781.0</td>\n",
       "    </tr>\n",
       "    <tr>\n",
       "      <th>7</th>\n",
       "      <td>3313534582</td>\n",
       "      <td>2111</td>\n",
       "      <td>1619350820</td>\n",
       "      <td>10</td>\n",
       "      <td>2021-04-25 11:40:20</td>\n",
       "      <td>2021-04-25</td>\n",
       "      <td>11:40:20</td>\n",
       "      <td>42012.0</td>\n",
       "    </tr>\n",
       "    <tr>\n",
       "      <th>8</th>\n",
       "      <td>3314436608</td>\n",
       "      <td>632</td>\n",
       "      <td>1619329407</td>\n",
       "      <td>3</td>\n",
       "      <td>2021-04-25 05:43:27</td>\n",
       "      <td>2021-04-25</td>\n",
       "      <td>05:43:27</td>\n",
       "      <td>20599.0</td>\n",
       "    </tr>\n",
       "    <tr>\n",
       "      <th>9</th>\n",
       "      <td>3315045687</td>\n",
       "      <td>566</td>\n",
       "      <td>1619328892</td>\n",
       "      <td>3</td>\n",
       "      <td>2021-04-25 05:34:52</td>\n",
       "      <td>2021-04-25</td>\n",
       "      <td>05:34:52</td>\n",
       "      <td>20084.0</td>\n",
       "    </tr>\n",
       "    <tr>\n",
       "      <th>10</th>\n",
       "      <td>3313932727</td>\n",
       "      <td>189</td>\n",
       "      <td>1619328615</td>\n",
       "      <td>1</td>\n",
       "      <td>2021-04-25 05:30:15</td>\n",
       "      <td>2021-04-25</td>\n",
       "      <td>05:30:15</td>\n",
       "      <td>19807.0</td>\n",
       "    </tr>\n",
       "    <tr>\n",
       "      <th>11</th>\n",
       "      <td>3313534479</td>\n",
       "      <td>330</td>\n",
       "      <td>1619298002</td>\n",
       "      <td>2</td>\n",
       "      <td>2021-04-24 21:00:02</td>\n",
       "      <td>2021-04-24</td>\n",
       "      <td>21:00:02</td>\n",
       "      <td>75594.0</td>\n",
       "    </tr>\n",
       "    <tr>\n",
       "      <th>12</th>\n",
       "      <td>3313549090</td>\n",
       "      <td>655</td>\n",
       "      <td>1619297869</td>\n",
       "      <td>3</td>\n",
       "      <td>2021-04-24 20:57:49</td>\n",
       "      <td>2021-04-24</td>\n",
       "      <td>20:57:49</td>\n",
       "      <td>75461.0</td>\n",
       "    </tr>\n",
       "    <tr>\n",
       "      <th>13</th>\n",
       "      <td>3288139126</td>\n",
       "      <td>1280</td>\n",
       "      <td>1619297161</td>\n",
       "      <td>6</td>\n",
       "      <td>2021-04-24 20:46:01</td>\n",
       "      <td>2021-04-24</td>\n",
       "      <td>20:46:01</td>\n",
       "      <td>74753.0</td>\n",
       "    </tr>\n",
       "    <tr>\n",
       "      <th>14</th>\n",
       "      <td>2714680189</td>\n",
       "      <td>2414</td>\n",
       "      <td>1619278330</td>\n",
       "      <td>11</td>\n",
       "      <td>2021-04-24 15:32:10</td>\n",
       "      <td>2021-04-24</td>\n",
       "      <td>15:32:10</td>\n",
       "      <td>55922.0</td>\n",
       "    </tr>\n",
       "    <tr>\n",
       "      <th>15</th>\n",
       "      <td>3222178623</td>\n",
       "      <td>905</td>\n",
       "      <td>1619278325</td>\n",
       "      <td>4</td>\n",
       "      <td>2021-04-24 15:32:05</td>\n",
       "      <td>2021-04-24</td>\n",
       "      <td>15:32:05</td>\n",
       "      <td>55917.0</td>\n",
       "    </tr>\n",
       "    <tr>\n",
       "      <th>16</th>\n",
       "      <td>3308699205</td>\n",
       "      <td>608</td>\n",
       "      <td>1619278321</td>\n",
       "      <td>3</td>\n",
       "      <td>2021-04-24 15:32:01</td>\n",
       "      <td>2021-04-24</td>\n",
       "      <td>15:32:01</td>\n",
       "      <td>55913.0</td>\n",
       "    </tr>\n",
       "    <tr>\n",
       "      <th>17</th>\n",
       "      <td>3266318822</td>\n",
       "      <td>4383</td>\n",
       "      <td>1619274864</td>\n",
       "      <td>20</td>\n",
       "      <td>2021-04-24 14:34:24</td>\n",
       "      <td>2021-04-24</td>\n",
       "      <td>14:34:24</td>\n",
       "      <td>52456.0</td>\n",
       "    </tr>\n",
       "    <tr>\n",
       "      <th>18</th>\n",
       "      <td>3173260860</td>\n",
       "      <td>1560</td>\n",
       "      <td>1619271255</td>\n",
       "      <td>7</td>\n",
       "      <td>2021-04-24 13:34:15</td>\n",
       "      <td>2021-04-24</td>\n",
       "      <td>13:34:15</td>\n",
       "      <td>48847.0</td>\n",
       "    </tr>\n",
       "    <tr>\n",
       "      <th>19</th>\n",
       "      <td>3247298148</td>\n",
       "      <td>0</td>\n",
       "      <td>1619216634</td>\n",
       "      <td>0</td>\n",
       "      <td>2021-04-23 22:23:54</td>\n",
       "      <td>2021-04-23</td>\n",
       "      <td>22:23:54</td>\n",
       "      <td>80626.0</td>\n",
       "    </tr>\n",
       "  </tbody>\n",
       "</table>\n",
       "</div>"
      ],
      "text/plain": [
       "   article_number number_of_words   timestamp time_to_read  \\\n",
       "0      3315109211             613  1619392577            3   \n",
       "1      3315827473            3220  1619392339           18   \n",
       "2      3315113716             346  1619391485            2   \n",
       "3      3315615735             274  1619391347            1   \n",
       "4      3315205474            1664  1619391242            9   \n",
       "5      3248208521            3645  1619385017           17   \n",
       "6      3246360687            1419  1619382589            6   \n",
       "7      3313534582            2111  1619350820           10   \n",
       "8      3314436608             632  1619329407            3   \n",
       "9      3315045687             566  1619328892            3   \n",
       "10     3313932727             189  1619328615            1   \n",
       "11     3313534479             330  1619298002            2   \n",
       "12     3313549090             655  1619297869            3   \n",
       "13     3288139126            1280  1619297161            6   \n",
       "14     2714680189            2414  1619278330           11   \n",
       "15     3222178623             905  1619278325            4   \n",
       "16     3308699205             608  1619278321            3   \n",
       "17     3266318822            4383  1619274864           20   \n",
       "18     3173260860            1560  1619271255            7   \n",
       "19     3247298148               0  1619216634            0   \n",
       "\n",
       "                  time        date    d_time  h_min_sec_datetimeformat  \n",
       "0  2021-04-25 23:16:17  2021-04-25  23:16:17                   83769.0  \n",
       "1  2021-04-25 23:12:19  2021-04-25  23:12:19                   83531.0  \n",
       "2  2021-04-25 22:58:05  2021-04-25  22:58:05                   82677.0  \n",
       "3  2021-04-25 22:55:47  2021-04-25  22:55:47                   82539.0  \n",
       "4  2021-04-25 22:54:02  2021-04-25  22:54:02                   82434.0  \n",
       "5  2021-04-25 21:10:17  2021-04-25  21:10:17                   76209.0  \n",
       "6  2021-04-25 20:29:49  2021-04-25  20:29:49                   73781.0  \n",
       "7  2021-04-25 11:40:20  2021-04-25  11:40:20                   42012.0  \n",
       "8  2021-04-25 05:43:27  2021-04-25  05:43:27                   20599.0  \n",
       "9  2021-04-25 05:34:52  2021-04-25  05:34:52                   20084.0  \n",
       "10 2021-04-25 05:30:15  2021-04-25  05:30:15                   19807.0  \n",
       "11 2021-04-24 21:00:02  2021-04-24  21:00:02                   75594.0  \n",
       "12 2021-04-24 20:57:49  2021-04-24  20:57:49                   75461.0  \n",
       "13 2021-04-24 20:46:01  2021-04-24  20:46:01                   74753.0  \n",
       "14 2021-04-24 15:32:10  2021-04-24  15:32:10                   55922.0  \n",
       "15 2021-04-24 15:32:05  2021-04-24  15:32:05                   55917.0  \n",
       "16 2021-04-24 15:32:01  2021-04-24  15:32:01                   55913.0  \n",
       "17 2021-04-24 14:34:24  2021-04-24  14:34:24                   52456.0  \n",
       "18 2021-04-24 13:34:15  2021-04-24  13:34:15                   48847.0  \n",
       "19 2021-04-23 22:23:54  2021-04-23  22:23:54                   80626.0  "
      ]
     },
     "execution_count": 105,
     "metadata": {},
     "output_type": "execute_result"
    }
   ],
   "source": [
    "df.head(20)"
   ]
  },
  {
   "cell_type": "code",
   "execution_count": 106,
   "metadata": {},
   "outputs": [
    {
     "data": {
      "text/plain": [
       "194.10206663854913"
      ]
     },
     "execution_count": 106,
     "metadata": {},
     "output_type": "execute_result"
    }
   ],
   "source": [
    "df.groupby('date')['time_to_read'].sum().max()\n",
    "\n",
    "df['number_of_words'].sum()/df['time_to_read'].sum()\n"
   ]
  },
  {
   "cell_type": "code",
   "execution_count": 107,
   "metadata": {},
   "outputs": [],
   "source": [
    "import seaborn as sns\n",
    "import matplotlib.pyplot as plt\n",
    "def lineplot():\n",
    "    sns.lineplot(x='number_of_words', y='time', data=df)\n",
    "    plt.xticks(rotation=15)\n",
    "    plt.title('seaborn-matplotlib example')\n",
    "    plt.show()\n",
    "    \n",
    "def distplot():\n",
    "    sns.distplot(x = df['h_min_sec_datetimeformat'],kde=True, bins = 10)\n",
    "    \n",
    "def jointplot():\n",
    "    sns.jointplot(x = df['d_time'], y = df['time_to_read'], kind = 'scatter')\n",
    "    \n",
    "def pairplot():\n",
    "    sns.pairplot(df)\n",
    "    \n",
    "def countplot():\n",
    "    sns.countplot(x = 'weekday', data = df)\n",
    "    \n",
    "def kdeplot():    \n",
    "    sns.kdeplot(x = df['h_min_sec_datetimeformat'])\n",
    "    \n",
    "def distplot2():\n",
    "    sns.displot(x = 'time',kde=True,bins = 10 , data =df)\n",
    "    plt.xticks(rotation=25)\n",
    "    plt.show()\n",
    "    \n",
    "def timescatter():\n",
    "    plt.scatter(df.h_min_sec_datetimeformat,df.weekday)\n",
    "    \n",
    "def barplot():\n",
    "    sns.barplot(x='h_min_sec_datetimeformat',y='time_to_read',data=df,estimator=sum)"
   ]
  },
  {
   "cell_type": "code",
   "execution_count": 108,
   "metadata": {},
   "outputs": [
    {
     "data": {
      "image/png": "[encoded data removed]",
      "text/plain": [
       "<Figure size 432x288 with 1 Axes>"
      ]
     },
     "metadata": {
      "needs_background": "light"
     },
     "output_type": "display_data"
    }
   ],
   "source": [
    "barplot()"
   ]
  },
  {
   "cell_type": "code",
   "execution_count": 111,
   "metadata": {},
   "outputs": [
    {
     "data": {
      "text/plain": [
       "<seaborn.axisgrid.JointGrid at 0x7f3fd10be730>"
      ]
     },
     "execution_count": 111,
     "metadata": {},
     "output_type": "execute_result"
    },
    {
     "data": {
      "image/png": "[encoded data removed]",
      "text/plain": [
       "<Figure size 432x432 with 3 Axes>"
      ]
     },
     "metadata": {
      "needs_background": "light"
     },
     "output_type": "display_data"
    }
   ],
   "source": [
    "sns.jointplot(x = df['time'], y = df['number_of_words'], kind = 'scatter')"
   ]
  },
  {
   "cell_type": "code",
   "execution_count": 119,
   "metadata": {},
   "outputs": [
    {
     "data": {
      "text/plain": [
       "<seaborn.axisgrid.PairGrid at 0x7f3fca976940>"
      ]
     },
     "execution_count": 119,
     "metadata": {},
     "output_type": "execute_result"
    },
    {
     "data": {
      "image/png": "[encoded data removed]",
      "text/plain": [
       "<Figure size 360x360 with 6 Axes>"
      ]
     },
     "metadata": {
      "needs_background": "light"
     },
     "output_type": "display_data"
    }
   ],
   "source": [
    "sns.pairplot(df)"
   ]
  },
  {
   "cell_type": "code",
   "execution_count": 109,
   "metadata": {},
   "outputs": [
    {
     "data": {
      "text/plain": [
       "[{'id': 153,\n",
       "  'type': 'general',\n",
       "  'setup': 'Want to hear a chimney joke?',\n",
       "  'punchline': \"Got stacks of em! First one's on the house\"},\n",
       " {'id': 258,\n",
       "  'type': 'general',\n",
       "  'setup': 'What is the difference between ignorance and apathy?',\n",
       "  'punchline': \"I don't know and I don't care.\"},\n",
       " {'id': 246,\n",
       "  'type': 'general',\n",
       "  'setup': \"What does a clock do when it's hungry?\",\n",
       "  'punchline': 'It goes back four seconds!'},\n",
       " {'id': 21,\n",
       "  'type': 'general',\n",
       "  'setup': 'A termite walks into a bar and says...',\n",
       "  'punchline': \"'Where is the bar tended?'\"},\n",
       " {'id': 102,\n",
       "  'type': 'general',\n",
       "  'setup': 'Did you hear the one about the guy with the broken hearing aid?',\n",
       "  'punchline': 'Neither did he.'},\n",
       " {'id': 239,\n",
       "  'type': 'general',\n",
       "  'setup': 'What do you do when you see a space man?',\n",
       "  'punchline': 'Park your car, man.'},\n",
       " {'id': 356,\n",
       "  'type': 'general',\n",
       "  'setup': 'Why do bears have hairy coats?',\n",
       "  'punchline': 'Fur protection.'},\n",
       " {'id': 348,\n",
       "  'type': 'general',\n",
       "  'setup': 'Why did the scarecrow win an award?',\n",
       "  'punchline': 'Because he was outstanding in his field.'},\n",
       " {'id': 335,\n",
       "  'type': 'general',\n",
       "  'setup': 'Why did the cookie cry?',\n",
       "  'punchline': 'Because his mother was a wafer so long'},\n",
       " {'id': 72,\n",
       "  'type': 'programming',\n",
       "  'setup': 'I was gonna tell you a joke about UDP...',\n",
       "  'punchline': '...but you might not get it.'}]"
      ]
     },
     "execution_count": 109,
     "metadata": {},
     "output_type": "execute_result"
    }
   ],
   "source": []
  },
  {
   "cell_type": "code",
   "execution_count": null,
   "metadata": {},
   "outputs": [],
   "source": []
  }
 ],
 "metadata": {
  "kernelspec": {
   "display_name": "Python 3",
   "language": "python",
   "name": "python3"
  },
  "language_info": {
   "codemirror_mode": {
    "name": "ipython",
    "version": 3
   },
   "file_extension": ".py",
   "mimetype": "text/x-python",
   "name": "python",
   "nbconvert_exporter": "python",
   "pygments_lexer": "ipython3",
   "version": "3.8.5"
  }
 },
 "nbformat": 4,
 "nbformat_minor": 4
}
